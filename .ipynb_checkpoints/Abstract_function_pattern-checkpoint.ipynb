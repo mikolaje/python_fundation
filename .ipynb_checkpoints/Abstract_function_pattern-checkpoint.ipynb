{
 "cells": [
  {
   "cell_type": "markdown",
   "metadata": {},
   "source": [
    "\"\"\"\n",
    "*What is this pattern about?\n",
    "设计模式用来干啥？\n",
    "In Java and other languages, the Abstract Factory Pattern serves to provide an interface for\n",
    "creating related/dependent objects without need to specify their\n",
    "actual class.\n",
    "Java和其它语言，抽象工厂模式为创建相关对象用来提供接口的同时不用指定他们的真实类\n",
    "The idea is to abstract the creation of objects depending on business\n",
    "logic, platform choice, etc.\n",
    "这个想法是用来抽象需要依赖业务逻辑，平台选择等对象的创建\n",
    "In Python, we interface we use is simply a callable, which is \"builtin\" interface\n",
    "in Python, and in normal circumstances we can simply use the class itself as\n",
    "that callable, because classes are first class objects in Python.\n",
    "*What does this example do?\n",
    "This particular implementation abstracts the creation of a pet and\n",
    "does so depending on the factory we chose (Dog or Cat, or random_animal)\n",
    "This works because both Dog/Cat and random_animal respect a common\n",
    "interface (callable for creation and .speak()).\n",
    "Now my application can create pets abstractly and decide later,\n",
    "based on my own criteria, dogs over cats.\n",
    "*Where is the pattern used practically?\n",
    "*References:\n",
    "https://sourcemaking.com/design_patterns/abstract_factory\n",
    "http://ginstrom.com/scribbles/2007/10/08/design-patterns-python-style/\n",
    "*TL;DR80\n",
    "Provides a way to encapsulate a group of individual factories.\n",
    "\"\"\""
   ]
  },
  {
   "cell_type": "code",
   "execution_count": null,
   "metadata": {},
   "outputs": [],
   "source": [
    "class PetShop(object):\n",
    "\n",
    "    \"\"\"A pet shop\"\"\"\n",
    "\n",
    "    def __init__(self, animal_factory=None):\n",
    "        \"\"\"pet_factory is our abstract factory.  We can set it at will.\"\"\"\n",
    "\n",
    "        self.pet_factory = animal_factory\n",
    "\n",
    "    def show_pet(self):\n",
    "        \"\"\"Creates and shows a pet using the abstract factory\"\"\"\n",
    "\n",
    "        pet = self.pet_factory()\n",
    "        print(\"We have a lovely {}\".format(pet))\n",
    "        print(\"It says {}\".format(pet.speak()))\n"
   ]
  },
  {
   "cell_type": "code",
   "execution_count": null,
   "metadata": {},
   "outputs": [],
   "source": [
    "class Dog(object):\n",
    "\n",
    "    def speak(self):\n",
    "        return \"woof\"\n",
    "\n",
    "    def __str__(self):\n",
    "        return \"Dog\""
   ]
  },
  {
   "cell_type": "code",
   "execution_count": null,
   "metadata": {},
   "outputs": [],
   "source": [
    "class Cat(object):\n",
    "\n",
    "    def speak(self):\n",
    "        return \"meow\"\n",
    "\n",
    "    def __str__(self):\n",
    "        return \"Cat\"\n"
   ]
  },
  {
   "cell_type": "code",
   "execution_count": null,
   "metadata": {},
   "outputs": [],
   "source": [
    "# Additional factories:\n",
    "\n",
    "# Create a random animal\n",
    "def random_animal():\n",
    "    \"\"\"Let's be dynamic!\"\"\"\n",
    "    return random.choice([Dog, Cat])()"
   ]
  },
  {
   "cell_type": "code",
   "execution_count": null,
   "metadata": {},
   "outputs": [],
   "source": [
    "# A Shop that sells only cats\n",
    "cat_shop = PetShop(Cat)\n",
    "cat_shop.show_pet()\n",
    "print(\"\")\n",
    "\n",
    "# A shop that sells random animals\n",
    "shop = PetShop(random_animal)\n",
    "for i in range(3):\n",
    "    shop.show_pet()\n",
    "    print(\"=\" * 20)"
   ]
  }
 ],
 "metadata": {
  "kernelspec": {
   "display_name": "Python 2",
   "language": "python",
   "name": "python2"
  },
  "language_info": {
   "codemirror_mode": {
    "name": "ipython",
    "version": 2
   },
   "file_extension": ".py",
   "mimetype": "text/x-python",
   "name": "python",
   "nbconvert_exporter": "python",
   "pygments_lexer": "ipython2",
   "version": "2.7.13"
  }
 },
 "nbformat": 4,
 "nbformat_minor": 2
}
