{
 "cells": [
  {
   "cell_type": "markdown",
   "metadata": {},
   "source": [
    "\n",
    "单例模式（Singleton Pattern）是一种常用的软件设计模式，该模式的主要目的是确保某一个类只有一个实例存在。当你希望在整个系统中，某个类只能出现一个实例时，单例对象就能派上用场。\n",
    "\n",
    "比如，某个服务器程序的配置信息存放在一个文件中，客户端通过一个 AppConfig 的类来读取配置文件的信息。如果在程序运行期间，有很多地方都需要使用配置文件的内容，也就是说，很多地方都需要创建 AppConfig 对象的实例，这就导致系统中存在多个 AppConfig 的实例对象，而这样会严重浪费内存资源，尤其是在配置文件内容很多的情况下。事实上，类似 AppConfig 这样的类，我们希望在程序运行期间只存在一个实例对象。\n",
    "\n",
    "在 Python 中，我们可以用多种方法来实现单例模式：\n",
    "\n",
    "使用模块\n",
    "使用 __new__\n",
    "使用装饰器（decorator）\n",
    "使用元类（metaclass）"
   ]
  },
  {
   "cell_type": "markdown",
   "metadata": {},
   "source": [
    "### 使用模块\n",
    "其实，Python 的模块就是天然的单例模式，因为模块在第一次导入时，会生成 .pyc 文件，当第二次导入时，就会直接加载 .pyc 文件，而不会再次执行模块代码。因此，我们只需把相关的函数和数据定义在一个模块中，就可以获得一个单例对象了。如果我们真的想要一个单例类，可以考虑这样做："
   ]
  },
  {
   "cell_type": "code",
   "execution_count": 1,
   "metadata": {},
   "outputs": [],
   "source": [
    "# mysingleton.py\n",
    "class My_Singleton(object):\n",
    "    def foo(self):\n",
    "        pass\n",
    "my_singleton = My_Singleton()"
   ]
  },
  {
   "cell_type": "markdown",
   "metadata": {},
   "source": [
    "将上面的代码保存在文件 mysingleton.py 中，然后这样使用："
   ]
  },
  {
   "cell_type": "code",
   "execution_count": null,
   "metadata": {},
   "outputs": [],
   "source": [
    "from mysingleton import my_singleton\n",
    "\n",
    "my_singleton.foo()"
   ]
  },
  {
   "cell_type": "markdown",
   "metadata": {},
   "source": [
    "### 使用 __new__\n",
    "\n",
    "为了使类只能出现一个实例，我们可以使用 __new__ 来控制实例的创建过程，代码如下："
   ]
  },
  {
   "cell_type": "code",
   "execution_count": 2,
   "metadata": {},
   "outputs": [],
   "source": [
    "class Singleton(object):\n",
    "    _instance = None\n",
    "    def __new__(cls, *args, **kw):\n",
    "        if not cls._instance:\n",
    "            cls._instance = super(Singleton, cls).__new__(cls, *args, **kw)  \n",
    "        return cls._instance  \n",
    "    \n",
    "    \n",
    "class MyClass(Singleton):  \n",
    "    a = 1"
   ]
  },
  {
   "cell_type": "markdown",
   "metadata": {},
   "source": [
    "在上面的代码中，我们将类的实例和一个类变量 _instance 关联起来，如果 cls._instance 为 None 则创建实例，否则直接返回 cls._instance。\n",
    "\n",
    "执行情况如下："
   ]
  },
  {
   "cell_type": "code",
   "execution_count": 4,
   "metadata": {},
   "outputs": [
    {
     "name": "stdout",
     "output_type": "stream",
     "text": [
      "True\n",
      "(139640730950160, 139640730950160)\n"
     ]
    }
   ],
   "source": [
    "one = MyClass()\n",
    "two = MyClass()\n",
    "one == two\n",
    "print(one is two)\n",
    "\n",
    "print(id(one), id(two))"
   ]
  },
  {
   "cell_type": "markdown",
   "metadata": {},
   "source": [
    "### 使用装饰器\n",
    "我们知道，装饰器（decorator）可以动态地修改一个类或函数的功能。这里，我们也可以使用装饰器来装饰某个类，使其只能生成一个实例，代码如下："
   ]
  },
  {
   "cell_type": "code",
   "execution_count": 8,
   "metadata": {},
   "outputs": [
    {
     "name": "stdout",
     "output_type": "stream",
     "text": [
      "True\n"
     ]
    }
   ],
   "source": [
    "from functools import wraps\n",
    "\n",
    "def singleton(cls):\n",
    "    instances = {}   #  static value\n",
    "    @wraps(cls)   # cls  相当于装饰某个函数时候 的 func\n",
    "    def wrapper(*args, **kw):\n",
    "        if cls not in instances:\n",
    "            instances[cls] = cls(*args, **kw)\n",
    "        return instances[cls]\n",
    "    return wrapper\n",
    "\n",
    "\n",
    "@singleton\n",
    "class MyClass(object):\n",
    "    a = 1\n",
    "    \n",
    "a=MyClass()\n",
    "b=MyClass()\n",
    "print (a is b)"
   ]
  },
  {
   "cell_type": "code",
   "execution_count": 13,
   "metadata": {},
   "outputs": [
    {
     "name": "stdout",
     "output_type": "stream",
     "text": [
      "not in instance\n",
      "in instance\n",
      "True\n"
     ]
    }
   ],
   "source": [
    "import functools\n",
    "\n",
    "def singleton(cls):    \n",
    "    @functools.wraps(cls)\n",
    "    def wrapper(*args, **kwargs):\n",
    "        if 'cls' in _instance:\n",
    "            print 'in instance'\n",
    "            return _instance['cls']\n",
    "        else:\n",
    "            print 'not in instance'\n",
    "            _instance['cls'] = cls(*args, **kwargs)\n",
    "        return _instance['cls']\n",
    "    _instance = {}   #it is static value\n",
    "    return wrapper\n",
    "\n",
    "@singleton\n",
    "class A(object):\n",
    "    a = 1\n",
    "\n",
    "a1=A()\n",
    "a2=A()\n",
    "print (a1 is a2)"
   ]
  },
  {
   "cell_type": "markdown",
   "metadata": {},
   "source": [
    "### 使用 metaclass\n",
    "元类（metaclass）可以控制类的创建过程，它主要做三件事：\n",
    "\n",
    "拦截类的创建\n",
    "修改类的定义\n",
    "返回修改后的类\n",
    "使用元类实现单例模式的代码如下："
   ]
  },
  {
   "cell_type": "code",
   "execution_count": null,
   "metadata": {},
   "outputs": [],
   "source": [
    "class Singleton(type):\n",
    "    _instances = {}\n",
    "    def __call__(cls, *args, **kwargs):\n",
    "        if cls not in cls._instances:\n",
    "            cls._instances[cls] = super(Singleton, cls).__call__(*args, **kwargs)\n",
    "        return cls._instances[cls]\n",
    "# Python2\n",
    "class MyClass(object):\n",
    "    __metaclass__ = Singleton\n",
    "# Python3\n",
    "# class MyClass(metaclass=Singleton):\n",
    "#    pass"
   ]
  },
  {
   "cell_type": "markdown",
   "metadata": {},
   "source": [
    "### 小结\n",
    "Python 的模块是天然的单例模式，这在大部分情况下应该是够用的，当然，我们也可以使用装饰器、元类等方法\n",
    "\n",
    "个人推荐用装饰器的方法，比较简单。"
   ]
  },
  {
   "cell_type": "code",
   "execution_count": null,
   "metadata": {},
   "outputs": [],
   "source": []
  },
  {
   "cell_type": "code",
   "execution_count": null,
   "metadata": {},
   "outputs": [],
   "source": []
  },
  {
   "cell_type": "code",
   "execution_count": null,
   "metadata": {},
   "outputs": [],
   "source": []
  },
  {
   "cell_type": "code",
   "execution_count": null,
   "metadata": {},
   "outputs": [],
   "source": []
  },
  {
   "cell_type": "code",
   "execution_count": null,
   "metadata": {},
   "outputs": [],
   "source": []
  },
  {
   "cell_type": "code",
   "execution_count": null,
   "metadata": {},
   "outputs": [],
   "source": []
  },
  {
   "cell_type": "code",
   "execution_count": null,
   "metadata": {},
   "outputs": [],
   "source": []
  },
  {
   "cell_type": "code",
   "execution_count": null,
   "metadata": {},
   "outputs": [],
   "source": []
  },
  {
   "cell_type": "code",
   "execution_count": null,
   "metadata": {},
   "outputs": [],
   "source": []
  }
 ],
 "metadata": {
  "kernelspec": {
   "display_name": "Python 2",
   "language": "python",
   "name": "python2"
  },
  "language_info": {
   "codemirror_mode": {
    "name": "ipython",
    "version": 2
   },
   "file_extension": ".py",
   "mimetype": "text/x-python",
   "name": "python",
   "nbconvert_exporter": "python",
   "pygments_lexer": "ipython2",
   "version": "2.7.13"
  }
 },
 "nbformat": 4,
 "nbformat_minor": 2
}
