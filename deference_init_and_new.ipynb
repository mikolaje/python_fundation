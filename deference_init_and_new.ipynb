{
 "cells": [
  {
   "cell_type": "markdown",
   "metadata": {},
   "source": [
    "## Python __new__ 和 __init__的区别"
   ]
  },
  {
   "cell_type": "markdown",
   "metadata": {},
   "source": [
    "__new__和__init__参数的不同\n",
    "__new__所接收的第一个参数是cls，而__init__所接收的第一个参数是self。这是因为当我们调用__new__的时候，该类的实例还并不存在（也就是self所引用的对象还不存在），所以需要接收一个类作为参数，从而产生一个实例。而当我们调用__init__的时候，实例已经存在，因此__init__接受self作为第一个参数并对该实例进行必要的初始化操作。这也意味着__init__是在__new__之后被调用的。"
   ]
  },
  {
   "cell_type": "markdown",
   "metadata": {},
   "source": [
    "关于 Python 新式类和老式类在这篇文章不做过多讨论，因为老式类是 Python2 中的概念，现在基本没人再会去用老式类，新式类必须显示地继承 object，而 Python3 中，只有新式类，默认继承了 object，无需显示指定，本文代码都是基于 Python3 来讨论。"
   ]
  },
  {
   "cell_type": "markdown",
   "metadata": {},
   "source": [
    "### __init__方法\n",
    "__init__方法负责对象的初始化，系统执行该方法前，其实该对象已经存在了，要不然初始化什么东西呢？先看例子："
   ]
  },
  {
   "cell_type": "code",
   "execution_count": 17,
   "metadata": {},
   "outputs": [
    {
     "name": "stdout",
     "output_type": "stream",
     "text": [
      "__new__ \n",
      "__init__ \n"
     ]
    },
    {
     "data": {
      "text/plain": [
       "<__main__.A1 at 0x7fb60ccd49d0>"
      ]
     },
     "execution_count": 17,
     "metadata": {},
     "output_type": "execute_result"
    }
   ],
   "source": [
    "# class A(object): python2 必须显示地继承object\n",
    "\n",
    "class A1(object):\n",
    "    def __init__(self):\n",
    "        print(\"__init__ \")\n",
    "\n",
    "    def __new__(cls):\n",
    "        print(\"__new__ \")\n",
    "        return super(A1, cls).__new__(cls)\n",
    "\n",
    "    def __call__(self):  # 可以定义任意参数\n",
    "        print('__call__ ')\n",
    "\n",
    "A1()"
   ]
  },
  {
   "cell_type": "markdown",
   "metadata": {},
   "source": [
    "从输出结果来看， __new__方法先被调用，返回一个实例对象，接着 __init__ 被调用。 \n",
    "__call__方法并没有被调用，这个我们放到最后说，先来说说前面两个方法，稍微改写成："
   ]
  },
  {
   "cell_type": "code",
   "execution_count": 18,
   "metadata": {},
   "outputs": [
    {
     "name": "stdout",
     "output_type": "stream",
     "text": [
      "__new__ \n",
      "<__main__.A2 object at 0x7fb60ccd4d10>\n",
      "__init__ \n",
      "<__main__.A2 object at 0x7fb60ccd4d10>\n"
     ]
    },
    {
     "data": {
      "text/plain": [
       "<__main__.A2 at 0x7fb60ccd4d10>"
      ]
     },
     "execution_count": 18,
     "metadata": {},
     "output_type": "execute_result"
    }
   ],
   "source": [
    "class A2(object):\n",
    "    def __init__(self):\n",
    "        print(\"__init__ \")\n",
    "        print(self)\n",
    "\n",
    "    def __new__(cls):\n",
    "        print(\"__new__ \")\n",
    "        self = super(A2, cls).__new__(cls)\n",
    "        print(self)\n",
    "        return self\n",
    "    \n",
    "A2()"
   ]
  },
  {
   "cell_type": "markdown",
   "metadata": {},
   "source": [
    "从输出结果来看，__new__ 方法的返回值就是类的实例对象，这个实例对象会传递给 __init__ 方法中定义的 self 参数，以便实例对象可以被正确地初始化。\n",
    "\n",
    "如果 __new__ 方法不返回值（或者说返回 None）那么 __init__ 将不会得到调用，这个也说得通，因为实例对象都没创建出来，调用 init 也没什么意义，此外，Python 还规定，__init__ 只能返回 None 值，否则报错。\n",
    "\n",
    "下面是zhihu-oauth的代码案例：\n"
   ]
  },
  {
   "cell_type": "code",
   "execution_count": 14,
   "metadata": {},
   "outputs": [],
   "source": [
    "class _Anonymous(object):\n",
    "    def __init__(self):\n",
    "        self.id = 0\n",
    "        self.name = '匿名用户'\n",
    "\n",
    "    def __getattr__(self, _):\n",
    "        # 匿名用户除了姓名和 ID 以外所有属性均为 None\n",
    "        return None\n",
    "\n",
    "\n",
    "ANONYMOUS = _Anonymous()\n",
    "\"\"\"\n",
    ".. role:: py_code(code)\n",
    "   :language: python\n",
    "统一的匿名用户对象，可以使用 :py_code:`if people is ANONYMOUS:` 判断是否是匿名用户\n",
    "\"\"\"\n",
    "\n",
    "\n",
    "class People(object):\n",
    "    def __new__(cls, pid, cache, session):\n",
    "        if pid == '0':\n",
    "            return ANONYMOUS\n",
    "        else:\n",
    "            return super(People, cls).__new__(cls)\n",
    "\n",
    "    def __init__(self, pid, cache, session):\n",
    "        self._over_e = None\n",
    "        super(People, self).__init__(pid, cache, session)"
   ]
  },
  {
   "cell_type": "markdown",
   "metadata": {},
   "source": [
    "### __call__ 方法\n",
    "关于 __call__ 方法，不得不先提到一个概念，就是可调用对象（callable），我们平时自定义的函数、内置函数和类都属于可调用对象，但凡是可以把一对括号()应用到某个对象身上都可称之为可调用对象，判断对象是否为可调用对象可以用函数 callable\n",
    "\n",
    "如果在类中实现了 __call__ 方法，那么实例对象也将成为一个可调用对象，我们回到最开始的那个例子："
   ]
  },
  {
   "cell_type": "code",
   "execution_count": 19,
   "metadata": {},
   "outputs": [
    {
     "name": "stdout",
     "output_type": "stream",
     "text": [
      "__new__ \n",
      "__init__ \n",
      "True\n"
     ]
    }
   ],
   "source": [
    "a = A1()\n",
    "print(callable(a))"
   ]
  },
  {
   "cell_type": "code",
   "execution_count": 20,
   "metadata": {},
   "outputs": [
    {
     "name": "stdout",
     "output_type": "stream",
     "text": [
      "__call__ \n"
     ]
    }
   ],
   "source": [
    "a()"
   ]
  },
  {
   "cell_type": "markdown",
   "metadata": {},
   "source": [
    "下面我们来看一个案例"
   ]
  },
  {
   "cell_type": "code",
   "execution_count": 32,
   "metadata": {},
   "outputs": [
    {
     "name": "stdout",
     "output_type": "stream",
     "text": [
      "(1, 2)\n",
      "(2, 3)\n"
     ]
    }
   ],
   "source": [
    "class Entity(object):\n",
    "    \"\"\"调用实体来改变实体的位置。\"\"\"\n",
    "\n",
    "    def __init__(self, size, x, y):\n",
    "        self.x, self.y = x, y\n",
    "        self.size = size\n",
    "\n",
    "    def __call__(self, x, y):\n",
    "        '''改变实体的位置'''\n",
    "        self.x, self.y = x, y\n",
    "    \n",
    "e = Entity(100,1,2) \n",
    "print(e.x,e.y)\n",
    "e(2,3)\n",
    "print(e.x,e.y)"
   ]
  },
  {
   "cell_type": "code",
   "execution_count": null,
   "metadata": {},
   "outputs": [],
   "source": []
  },
  {
   "cell_type": "code",
   "execution_count": null,
   "metadata": {},
   "outputs": [],
   "source": []
  },
  {
   "cell_type": "code",
   "execution_count": null,
   "metadata": {},
   "outputs": [],
   "source": []
  },
  {
   "cell_type": "code",
   "execution_count": null,
   "metadata": {},
   "outputs": [],
   "source": []
  },
  {
   "cell_type": "code",
   "execution_count": null,
   "metadata": {},
   "outputs": [],
   "source": []
  },
  {
   "cell_type": "code",
   "execution_count": null,
   "metadata": {},
   "outputs": [],
   "source": []
  },
  {
   "cell_type": "code",
   "execution_count": null,
   "metadata": {},
   "outputs": [],
   "source": []
  },
  {
   "cell_type": "code",
   "execution_count": null,
   "metadata": {},
   "outputs": [],
   "source": []
  },
  {
   "cell_type": "code",
   "execution_count": null,
   "metadata": {},
   "outputs": [],
   "source": []
  },
  {
   "cell_type": "code",
   "execution_count": null,
   "metadata": {},
   "outputs": [],
   "source": []
  },
  {
   "cell_type": "code",
   "execution_count": null,
   "metadata": {},
   "outputs": [],
   "source": []
  },
  {
   "cell_type": "code",
   "execution_count": null,
   "metadata": {},
   "outputs": [],
   "source": []
  }
 ],
 "metadata": {
  "kernelspec": {
   "display_name": "Python 2",
   "language": "python",
   "name": "python2"
  },
  "language_info": {
   "codemirror_mode": {
    "name": "ipython",
    "version": 2
   },
   "file_extension": ".py",
   "mimetype": "text/x-python",
   "name": "python",
   "nbconvert_exporter": "python",
   "pygments_lexer": "ipython2",
   "version": "2.7.13"
  }
 },
 "nbformat": 4,
 "nbformat_minor": 2
}
