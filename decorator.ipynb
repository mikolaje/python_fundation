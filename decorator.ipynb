{
 "cells": [
  {
   "cell_type": "markdown",
   "metadata": {},
   "source": [
    "This Tutorial is quoted from https://taizilongxu.gitbooks.io/stackoverflow-about-python/content/3/README.html"
   ]
  },
  {
   "cell_type": "code",
   "execution_count": 1,
   "metadata": {
    "collapsed": true
   },
   "outputs": [],
   "source": [
    "def shout(word=\"yes\"):\n",
    "    return word.capitalize()+\"!\""
   ]
  },
  {
   "cell_type": "code",
   "execution_count": 2,
   "metadata": {},
   "outputs": [
    {
     "name": "stdout",
     "output_type": "stream",
     "text": [
      "Yes!\n"
     ]
    }
   ],
   "source": [
    "print(shout())"
   ]
  },
  {
   "cell_type": "markdown",
   "metadata": {},
   "source": [
    "作为一个对象,你可以把它赋值给任何变量\n",
    "注意啦我们没有加括号,我们并不是调用这个函数,我们只是把函数\"shout\"放在了变量\"scream\"里.\n",
    "也就是说我们可以通过\"scream\"调用\"shout\":"
   ]
  },
  {
   "cell_type": "code",
   "execution_count": 3,
   "metadata": {},
   "outputs": [
    {
     "name": "stdout",
     "output_type": "stream",
     "text": [
      "Yes!\n"
     ]
    }
   ],
   "source": [
    "scream = shout\n",
    "\n",
    "print(scream())"
   ]
  },
  {
   "cell_type": "code",
   "execution_count": 4,
   "metadata": {},
   "outputs": [
    {
     "name": "stdout",
     "output_type": "stream",
     "text": [
      "name 'shout' is not defined\n",
      "Yes!\n"
     ]
    }
   ],
   "source": [
    "# 你可以删除旧名\"shout\",而且\"scream\"依然指向函数\n",
    "del shout\n",
    "try:\n",
    "    print(shout())\n",
    "except NameError as e:\n",
    "    print(e)\n",
    " \n",
    "print(scream())"
   ]
  },
  {
   "cell_type": "markdown",
   "metadata": {},
   "source": [
    "好了,先记住上面的,一会还会用到.\n",
    "\n",
    "Python函数另一个有趣的特性就是你可以在一个函数里定义另一个函数!"
   ]
  },
  {
   "cell_type": "code",
   "execution_count": 5,
   "metadata": {},
   "outputs": [
    {
     "name": "stdout",
     "output_type": "stream",
     "text": [
      "yes...\n"
     ]
    }
   ],
   "source": [
    "def talk():\n",
    "\n",
    "    # 你可以在\"talk\"里定义另一个函数 ...\n",
    "    def whisper(word=\"yes\"):\n",
    "        return word.lower()+\"...\"\n",
    "\n",
    "    # 让我们用用它!\n",
    "\n",
    "    print(whisper())\n",
    "\n",
    "# 每次调用\"talk\"时都会定义一次\"whisper\",然后\"talk\"会调用\"whisper\"\n",
    "talk()"
   ]
  },
  {
   "cell_type": "markdown",
   "metadata": {},
   "source": [
    "但是在\"talk\"以外\"whisper\"是不存在的:"
   ]
  },
  {
   "cell_type": "code",
   "execution_count": 7,
   "metadata": {},
   "outputs": [
    {
     "name": "stdout",
     "output_type": "stream",
     "text": [
      "name 'whisper' is not defined\n"
     ]
    }
   ],
   "source": [
    "try:\n",
    "    print(whisper())\n",
    "except NameError as e:\n",
    "    print(e)\n"
   ]
  },
  {
   "cell_type": "markdown",
   "metadata": {},
   "source": [
    "### 函数引用\n",
    "好,终于到了有趣的地方了...\n",
    "\n",
    "已经知道函数就是对象.因此,对象:\n",
    "\n",
    "可以赋值给一个变量\n",
    "可以在其他函数里定义\n",
    "这就意味着函数可以返回另一个函数.来看看!☺"
   ]
  },
  {
   "cell_type": "code",
   "execution_count": 11,
   "metadata": {
    "collapsed": true
   },
   "outputs": [],
   "source": [
    "def getTalk(kind=\"shout\"):\n",
    "\n",
    "    # 在函数里定义一个函数\n",
    "    def shout(word=\"yes\"):\n",
    "        return word.capitalize()+\"!\"\n",
    "\n",
    "    def whisper(word=\"yes\") :\n",
    "        return word.lower()+\"...\";\n",
    "\n",
    "    # 返回一个函数\n",
    "    if kind == \"shout\":\n",
    "        # 这里不用\"()\",我们不是要调用函数\n",
    "        # 只是返回函数对象\n",
    "        return shout\n",
    "    else:\n",
    "        return whisper\n"
   ]
  },
  {
   "cell_type": "markdown",
   "metadata": {},
   "source": [
    "怎么用这个特性呢?\n",
    "\n",
    "把函数赋值给变量"
   ]
  },
  {
   "cell_type": "code",
   "execution_count": 13,
   "metadata": {},
   "outputs": [
    {
     "name": "stdout",
     "output_type": "stream",
     "text": [
      "<function getTalk.<locals>.shout at 0x7ff85825f2f0>\n"
     ]
    }
   ],
   "source": [
    "talk = getTalk()\n",
    "\n",
    "# 可以看到\"talk\"是一个函数对象\n",
    "print(talk)\n",
    "# 输出 : <function shout at 0xb7ea817c>"
   ]
  },
  {
   "cell_type": "code",
   "execution_count": 14,
   "metadata": {},
   "outputs": [
    {
     "name": "stdout",
     "output_type": "stream",
     "text": [
      "Yes!\n",
      "yes...\n"
     ]
    }
   ],
   "source": [
    "# 函数返回的是对象:\n",
    "print(talk())\n",
    "\n",
    "# 不嫌麻烦你也可以这么用\n",
    "print(getTalk(\"whisper\")())"
   ]
  },
  {
   "cell_type": "markdown",
   "metadata": {},
   "source": [
    "既然可以return一个函数, 你也可以在把函数作为参数传递:"
   ]
  },
  {
   "cell_type": "code",
   "execution_count": 15,
   "metadata": {},
   "outputs": [
    {
     "name": "stdout",
     "output_type": "stream",
     "text": [
      "I do something before then I call the function you gave me\n",
      "Yes!\n"
     ]
    }
   ],
   "source": [
    "def doSomethingBefore(func):\n",
    "    print (\"I do something before then I call the function you gave me\")\n",
    "    print(func())\n",
    "\n",
    "doSomethingBefore(scream)"
   ]
  },
  {
   "cell_type": "markdown",
   "metadata": {},
   "source": [
    "学习装饰器的基本知识都在上面了.装饰器就是\"wrappers\",它可以让你在你装饰函数之前或之后执行程序,而不用修改函数本身.\n",
    "\n",
    "### 自己动手实现装饰器\n",
    "\n",
    "怎么样自己做呢:"
   ]
  },
  {
   "cell_type": "code",
   "execution_count": 16,
   "metadata": {},
   "outputs": [
    {
     "name": "stdout",
     "output_type": "stream",
     "text": [
      "I am a stand alone function, don't you dare modify me\n",
      "Before the function runs\n",
      "I am a stand alone function, don't you dare modify me\n",
      "After the function runs\n"
     ]
    }
   ],
   "source": [
    "# 装饰器就是把其他函数作为参数的函数\n",
    "def my_shiny_new_decorator(a_function_to_decorate):\n",
    "\n",
    "    # 在函数里面,装饰器在运行中定义函数: 包装.\n",
    "    # 这个函数将被包装在原始函数的外面,所以可以在原始函数之前和之后执行其他代码..\n",
    "    def the_wrapper_around_the_original_function():\n",
    "\n",
    "        # 把要在原始函数被调用前的代码放在这里\n",
    "        print(\"Before the function runs\")\n",
    "\n",
    "        # 调用原始函数(用括号)\n",
    "        a_function_to_decorate()\n",
    "\n",
    "        # 把要在原始函数调用后的代码放在这里\n",
    "        print(\"After the function runs\")\n",
    "\n",
    "    # 在这里\"a_function_to_decorate\" 函数永远不会被执行\n",
    "    # 在这里返回刚才包装过的函数\n",
    "    # 在包装函数里包含要在原始函数前后执行的代码.\n",
    "    return the_wrapper_around_the_original_function\n",
    "\n",
    "# 加入你建了个函数,不想修改了\n",
    "def a_stand_alone_function():\n",
    "    print(\"I am a stand alone function, don't you dare modify me\")\n",
    "\n",
    "a_stand_alone_function()\n",
    "#输出: I am a stand alone function, don't you dare modify me\n",
    "\n",
    "# 现在,你可以装饰它来增加它的功能\n",
    "# 把它传递给装饰器,它就会返回一个被包装过的函数.\n",
    "\n",
    "a_stand_alone_function_decorated = my_shiny_new_decorator(a_stand_alone_function)\n",
    "a_stand_alone_function_decorated()"
   ]
  },
  {
   "cell_type": "markdown",
   "metadata": {},
   "source": [
    "现在,你或许每次都想用a_stand_alone_function_decorated代替a_stand_alone_function,很简单,只需要用my_shiny_new_decorator返回的函数重写a_stand_alone_function:"
   ]
  },
  {
   "cell_type": "code",
   "execution_count": 17,
   "metadata": {},
   "outputs": [
    {
     "name": "stdout",
     "output_type": "stream",
     "text": [
      "Before the function runs\n",
      "I am a stand alone function, don't you dare modify me\n",
      "After the function runs\n"
     ]
    }
   ],
   "source": [
    "a_stand_alone_function = my_shiny_new_decorator(a_stand_alone_function)\n",
    "a_stand_alone_function()\n",
    "\n",
    "# 想到了吗,这就是装饰器干的事!"
   ]
  },
  {
   "cell_type": "markdown",
   "metadata": {},
   "source": [
    "### 让我们看看装饰器的真实面纱\n",
    "\n",
    "用上一个例子,看看装饰器的语法:"
   ]
  },
  {
   "cell_type": "code",
   "execution_count": 18,
   "metadata": {},
   "outputs": [
    {
     "name": "stdout",
     "output_type": "stream",
     "text": [
      "Before the function runs\n",
      "Leave me alone\n",
      "After the function runs\n"
     ]
    }
   ],
   "source": [
    "@my_shiny_new_decorator\n",
    "def another_stand_alone_function():\n",
    "    print (\"Leave me alone\")\n",
    "\n",
    "another_stand_alone_function()"
   ]
  },
  {
   "cell_type": "code",
   "execution_count": 19,
   "metadata": {
    "collapsed": true
   },
   "outputs": [],
   "source": [
    "# 就这么简单.@decorator就是下面的简写:\n",
    "another_stand_alone_function = my_shiny_new_decorator(another_stand_alone_function)"
   ]
  },
  {
   "cell_type": "markdown",
   "metadata": {},
   "source": [
    "装饰器就是 decorator design pattern的pythonic的变种.在Python中有许多经典的设计模式来满足开发者.\n",
    "\n",
    "当然,你也可以自己写装饰器:"
   ]
  },
  {
   "cell_type": "code",
   "execution_count": 20,
   "metadata": {},
   "outputs": [
    {
     "name": "stdout",
     "output_type": "stream",
     "text": [
      "--ham--\n",
      "</''''''\\>\n",
      "#tomatoes#\n",
      "--ham--\n",
      "~salad~\n",
      "<\\______/>\n"
     ]
    }
   ],
   "source": [
    "def bread(func):\n",
    "    def wrapper():\n",
    "        print(\"</''''''\\>\")\n",
    "        func()\n",
    "        print(\"<\\______/>\")\n",
    "    return wrapper\n",
    "\n",
    "def ingredients(func):\n",
    "    def wrapper():\n",
    "        print(\"#tomatoes#\")\n",
    "        func()\n",
    "        print(\"~salad~\")\n",
    "    return wrapper\n",
    "\n",
    "def sandwich(food=\"--ham--\"):\n",
    "    print(food)\n",
    "\n",
    "sandwich()\n",
    "#outputs: --ham--\n",
    "\n",
    "sandwich = bread(ingredients(sandwich))\n",
    "sandwich()"
   ]
  },
  {
   "cell_type": "markdown",
   "metadata": {},
   "source": [
    "用Python装饰器语法糖:"
   ]
  },
  {
   "cell_type": "code",
   "execution_count": 21,
   "metadata": {},
   "outputs": [
    {
     "name": "stdout",
     "output_type": "stream",
     "text": [
      "</''''''\\>\n",
      "#tomatoes#\n",
      "--ham--\n",
      "~salad~\n",
      "<\\______/>\n"
     ]
    }
   ],
   "source": [
    "@bread\n",
    "@ingredients\n",
    "def sandwich(food=\"--ham--\"):\n",
    "    print(food)\n",
    "\n",
    "sandwich()"
   ]
  },
  {
   "cell_type": "markdown",
   "metadata": {},
   "source": [
    "改变一下顺序:"
   ]
  },
  {
   "cell_type": "code",
   "execution_count": null,
   "metadata": {
    "collapsed": true
   },
   "outputs": [],
   "source": [
    "@ingredients\n",
    "@bread\n",
    "def strange_sandwich(food=\"--ham--\"):\n",
    "    print(food)\n",
    "\n",
    "strange_sandwich()"
   ]
  },
  {
   "cell_type": "markdown",
   "metadata": {},
   "source": [
    "### 现在:回答你的问题...\n",
    "\n",
    "作为结论,相信你现在已经知道答案了:"
   ]
  },
  {
   "cell_type": "code",
   "execution_count": 22,
   "metadata": {},
   "outputs": [
    {
     "name": "stdout",
     "output_type": "stream",
     "text": [
      "<b><i>hello</i></b>\n",
      "<b><i>hello</i></b>\n"
     ]
    }
   ],
   "source": [
    "# 字体变粗装饰器\n",
    "def makebold(fn):\n",
    "    # 装饰器将返回新的函数\n",
    "    def wrapper():\n",
    "        # 在之前或者之后插入新的代码\n",
    "        return \"<b>\" + fn() + \"</b>\"\n",
    "    return wrapper\n",
    "\n",
    "# 斜体装饰器\n",
    "def makeitalic(fn):\n",
    "    # 装饰器将返回新的函数\n",
    "    def wrapper():\n",
    "        # 在之前或者之后插入新的代码\n",
    "        return \"<i>\" + fn() + \"</i>\"\n",
    "    return wrapper\n",
    "\n",
    "@makebold\n",
    "@makeitalic\n",
    "def say():\n",
    "    return \"hello\"\n",
    "\n",
    "print(say())\n",
    "\n",
    "# 这相当于\n",
    "def say():\n",
    "    return \"hello\"\n",
    "say = makebold(makeitalic(say))\n",
    "\n",
    "print(say())"
   ]
  },
  {
   "cell_type": "markdown",
   "metadata": {},
   "source": [
    "别轻松太早,看看下面的高级用法\n",
    "## 装饰器高级用法\n",
    "### 在装饰器函数里传入参数"
   ]
  },
  {
   "cell_type": "code",
   "execution_count": 23,
   "metadata": {},
   "outputs": [
    {
     "name": "stdout",
     "output_type": "stream",
     "text": [
      "I got args! Look: Peter Venkman\n",
      "My name is Peter Venkman\n"
     ]
    }
   ],
   "source": [
    "# 这不是什么黑魔法,你只需要让包装器传递参数:\n",
    "\n",
    "def a_decorator_passing_arguments(function_to_decorate):\n",
    "    def a_wrapper_accepting_arguments(arg1, arg2):\n",
    "        print (\"I got args! Look:\", arg1, arg2)\n",
    "        function_to_decorate(arg1, arg2)\n",
    "    return a_wrapper_accepting_arguments\n",
    "\n",
    "# 当你调用装饰器返回的函数时,也就调用了包装器,把参数传入包装器里,\n",
    "# 它将把参数传递给被装饰的函数里.\n",
    "\n",
    "@a_decorator_passing_arguments\n",
    "def print_full_name(first_name, last_name):\n",
    "    print (\"My name is\", first_name, last_name)\n",
    "\n",
    "print_full_name(\"Peter\", \"Venkman\")"
   ]
  },
  {
   "cell_type": "markdown",
   "metadata": {},
   "source": [
    "### 装饰方法\n",
    "在Python里方法和函数几乎一样.唯一的区别就是方法的第一个参数是一个当前对象的(self)\n",
    "\n",
    "也就是说你可以用同样的方式来装饰方法!只要记得把self加进去:"
   ]
  },
  {
   "cell_type": "code",
   "execution_count": 24,
   "metadata": {},
   "outputs": [
    {
     "name": "stdout",
     "output_type": "stream",
     "text": [
      "I am 26, what did you think?\n"
     ]
    }
   ],
   "source": [
    "def method_friendly_decorator(method_to_decorate):\n",
    "    def wrapper(self, lie):\n",
    "        lie = lie - 3 # 女性福音 :-)\n",
    "        return method_to_decorate(self, lie)\n",
    "    return wrapper\n",
    "\n",
    "\n",
    "class Lucy(object):\n",
    "\n",
    "    def __init__(self):\n",
    "        self.age = 32\n",
    "\n",
    "    @method_friendly_decorator\n",
    "    def sayYourAge(self, lie):\n",
    "        print(\"I am %s, what did you think?\" % (self.age + lie))\n",
    "\n",
    "l = Lucy()\n",
    "l.sayYourAge(-3)"
   ]
  },
  {
   "cell_type": "markdown",
   "metadata": {},
   "source": [
    "如果你想造一个更通用的可以同时满足方法和函数的装饰器,用*args,**kwargs就可以了"
   ]
  },
  {
   "cell_type": "code",
   "execution_count": 25,
   "metadata": {},
   "outputs": [
    {
     "name": "stdout",
     "output_type": "stream",
     "text": [
      "Do I have args?:\n",
      "()\n",
      "{}\n",
      "Python is cool, no argument here.\n"
     ]
    }
   ],
   "source": [
    "def a_decorator_passing_arbitrary_arguments(function_to_decorate):\n",
    "    # 包装器接受所有参数\n",
    "    def a_wrapper_accepting_arbitrary_arguments(*args, **kwargs):\n",
    "        print(\"Do I have args?:\")\n",
    "        print(args)\n",
    "        print(kwargs)\n",
    "        # 现在把*args,**kwargs解包\n",
    "        function_to_decorate(*args, **kwargs)\n",
    "    return a_wrapper_accepting_arbitrary_arguments\n",
    "\n",
    "@a_decorator_passing_arbitrary_arguments\n",
    "def function_with_no_argument():\n",
    "    print(\"Python is cool, no argument here.\")\n",
    "\n",
    "function_with_no_argument()"
   ]
  },
  {
   "cell_type": "code",
   "execution_count": 27,
   "metadata": {},
   "outputs": [
    {
     "name": "stdout",
     "output_type": "stream",
     "text": [
      "Do I have args?:\n",
      "(1, 2, 3)\n",
      "{}\n",
      "1 2 3\n"
     ]
    }
   ],
   "source": [
    "@a_decorator_passing_arbitrary_arguments\n",
    "def function_with_arguments(a, b, c):\n",
    "    print(a, b, c)\n",
    "\n",
    "function_with_arguments(1,2,3)"
   ]
  },
  {
   "cell_type": "code",
   "execution_count": 30,
   "metadata": {},
   "outputs": [
    {
     "name": "stdout",
     "output_type": "stream",
     "text": [
      "Do I have args?:\n",
      "('Bill', 'Linus', 'Steve')\n",
      "{'platypus': 'Indeed!'}\n",
      "Do Bill, Linus and Steve like platypus? Indeed!\n"
     ]
    }
   ],
   "source": [
    "@a_decorator_passing_arbitrary_arguments\n",
    "def function_with_named_arguments(a, b, c, platypus=\"Why not ?\"):\n",
    "    print (\"Do %s, %s and %s like platypus? %s\" % (a, b, c, platypus))\n",
    "\n",
    "function_with_named_arguments(\"Bill\", \"Linus\", \"Steve\", platypus=\"Indeed!\")"
   ]
  },
  {
   "cell_type": "code",
   "execution_count": 31,
   "metadata": {},
   "outputs": [
    {
     "name": "stdout",
     "output_type": "stream",
     "text": [
      "Do I have args?:\n",
      "(<__main__.Mary object at 0x7ff8581fe550>,)\n",
      "{}\n",
      "I am 28, what did you think ?\n"
     ]
    }
   ],
   "source": [
    "class Mary(object):\n",
    "\n",
    "    def __init__(self):\n",
    "        self.age = 31\n",
    "\n",
    "    @a_decorator_passing_arbitrary_arguments\n",
    "    def sayYourAge(self, lie=-3): # 可以加入一个默认值\n",
    "        print (\"I am %s, what did you think ?\" % (self.age + lie))\n",
    "\n",
    "m = Mary()\n",
    "m.sayYourAge()"
   ]
  },
  {
   "cell_type": "markdown",
   "metadata": {},
   "source": [
    "\n",
    "### 把参数传递给装饰器\n",
    "\n",
    "好了,如何把参数传递给装饰器自己?\n",
    "\n",
    "因为装饰器必须接收一个函数当做参数,所以有点麻烦.好吧,你不可以直接把被装饰函数的参数传递给装饰器.\n",
    "\n",
    "在我们考虑这个问题时,让我们重新回顾下:"
   ]
  },
  {
   "cell_type": "code",
   "execution_count": 33,
   "metadata": {},
   "outputs": [
    {
     "name": "stdout",
     "output_type": "stream",
     "text": [
      "I am an ordinary function\n",
      "I am an ordinary function\n"
     ]
    }
   ],
   "source": [
    "# 装饰器就是一个'平常不过'的函数\n",
    "def my_decorator(func):\n",
    "    print(\"I am an ordinary function\")\n",
    "    def wrapper():\n",
    "        print(\"I am function returned by the decorator\")\n",
    "        func()\n",
    "    return wrapper\n",
    "\n",
    "# 因此你可以不用\"@\"也可以调用他\n",
    "\n",
    "def lazy_function():\n",
    "    print(\"zzzzzzzz\")\n",
    "\n",
    "decorated_function = my_decorator(lazy_function)\n",
    "#输出: I am an ordinary function\n",
    "\n",
    "# 之所以输出 \"I am an ordinary function\"是因为你调用了函数,\n",
    "# 并非什么魔法.\n",
    "\n",
    "@my_decorator\n",
    "def lazy_function():\n",
    "    print(\"zzzzzzzz\")"
   ]
  },
  {
   "cell_type": "markdown",
   "metadata": {},
   "source": [
    "看见了吗,和\"my_decorator\"一样只是被调用.所以当你用@my_decorator你只是告诉Python去 掉用被变量my_decorator标记的函数.\n",
    "\n",
    "这非常重要!你的标记能直接指向装饰器.\n",
    "\n",
    "让我们做点邪恶的事."
   ]
  },
  {
   "cell_type": "code",
   "execution_count": 34,
   "metadata": {},
   "outputs": [
    {
     "name": "stdout",
     "output_type": "stream",
     "text": [
      "I make decorators! I am executed only once: when you make me create a decorator.\n",
      "As a decorator maker, I return a decorator\n"
     ]
    }
   ],
   "source": [
    "def decorator_maker():\n",
    "\n",
    "    print(\"I make decorators! I am executed only once: \"+\\\n",
    "          \"when you make me create a decorator.\")\n",
    "\n",
    "    def my_decorator(func):\n",
    "\n",
    "        print(\"I am a decorator! I am executed only when you decorate a function.\")\n",
    "\n",
    "        def wrapped():\n",
    "            print (\"I am the wrapper around the decorated function. \"\n",
    "                  \"I am called when you call the decorated function. \"\n",
    "                  \"As the wrapper, I return the RESULT of the decorated function.\")\n",
    "            return func()\n",
    "\n",
    "        print(\"As the decorator, I return the wrapped function.\")\n",
    "\n",
    "        return wrapped\n",
    "\n",
    "    print (\"As a decorator maker, I return a decorator\")\n",
    "    return my_decorator\n",
    "\n",
    "new_decorator = decorator_maker()"
   ]
  },
  {
   "cell_type": "code",
   "execution_count": 39,
   "metadata": {},
   "outputs": [
    {
     "name": "stdout",
     "output_type": "stream",
     "text": [
      "I am a decorator! I am executed only when you decorate a function.\n",
      "As the decorator, I return the wrapped function.\n"
     ]
    }
   ],
   "source": [
    "# 下面来装饰一个函数\n",
    "\n",
    "def decorated_function():\n",
    "    print (\"I am the decorated function.\")\n",
    "\n",
    "decorated_function = new_decorator(decorated_function)"
   ]
  },
  {
   "cell_type": "code",
   "execution_count": 38,
   "metadata": {},
   "outputs": [
    {
     "name": "stdout",
     "output_type": "stream",
     "text": [
      "I am the wrapper around the decorated function. I am called when you call the decorated function. As the wrapper, I return the RESULT of the decorated function.\n",
      "I am the decorated function.\n"
     ]
    }
   ],
   "source": [
    "# Let’s call the function:\n",
    "decorated_function()"
   ]
  },
  {
   "cell_type": "markdown",
   "metadata": {},
   "source": [
    "一点都不难ba.\n",
    "\n",
    "下面让我们去掉所有可恶的中间变量:"
   ]
  },
  {
   "cell_type": "code",
   "execution_count": 41,
   "metadata": {},
   "outputs": [
    {
     "name": "stdout",
     "output_type": "stream",
     "text": [
      "I make decorators! I am executed only once: when you make me create a decorator.\n",
      "As a decorator maker, I return a decorator\n",
      "I am a decorator! I am executed only when you decorate a function.\n",
      "As the decorator, I return the wrapped function.\n"
     ]
    }
   ],
   "source": [
    "def decorated_function():\n",
    "    print(\"I am the decorated function.\")\n",
    "decorated_function = decorator_maker()(decorated_function)"
   ]
  },
  {
   "cell_type": "code",
   "execution_count": 42,
   "metadata": {},
   "outputs": [
    {
     "name": "stdout",
     "output_type": "stream",
     "text": [
      "I make decorators! I am executed only once: when you make me create a decorator.\n",
      "As a decorator maker, I return a decorator\n",
      "I am a decorator! I am executed only when you decorate a function.\n",
      "As the decorator, I return the wrapped function.\n",
      "I am the wrapper around the decorated function. I am called when you call the decorated function. As the wrapper, I return the RESULT of the decorated function.\n",
      "I am the decorated function.\n"
     ]
    }
   ],
   "source": [
    "# 让我们简化一下:\n",
    "\n",
    "@decorator_maker()\n",
    "def decorated_function():\n",
    "    print(\"I am the decorated function.\")\n",
    "    \n",
    "#最终:\n",
    "decorated_function()       "
   ]
  },
  {
   "cell_type": "markdown",
   "metadata": {},
   "source": [
    "看到了吗?我们用一个函数调用\"@\"语法!:-)\n",
    "\n",
    "所以让我们回到装饰器的.如果我们在函数运行过程中动态生成装饰器,我们是不是可以把参数传递给函数?"
   ]
  },
  {
   "cell_type": "code",
   "execution_count": 43,
   "metadata": {},
   "outputs": [
    {
     "name": "stdout",
     "output_type": "stream",
     "text": [
      "I make decorators! And I accept arguments: Leonard Sheldon\n",
      "I am the decorator. Somehow you passed me arguments: Leonard Sheldon\n",
      "I am the wrapper around the decorated function.\n",
      "I can access all the variables\n",
      "\t- from the decorator: Leonard Sheldon\n",
      "\t- from the function call: Rajesh Howard\n",
      "Then I can pass them to the decorated function\n",
      "I am the decorated function and only knows about my arguments: Rajesh Howard\n"
     ]
    }
   ],
   "source": [
    "def decorator_maker_with_arguments(decorator_arg1, decorator_arg2):\n",
    "\n",
    "    print(\"I make decorators! And I accept arguments:\", decorator_arg1, decorator_arg2)\n",
    "\n",
    "    def my_decorator(func):\n",
    "        # 这里传递参数的能力是借鉴了 closures.\n",
    "        # 如果对closures感到困惑可以看看下面这个:\n",
    "        # http://stackoverflow.com/questions/13857/can-you-explain-closures-as-they-relate-to-python\n",
    "        print(\"I am the decorator. Somehow you passed me arguments:\", decorator_arg1, decorator_arg2)\n",
    "\n",
    "        # 不要忘了装饰器参数和函数参数!\n",
    "        def wrapped(function_arg1, function_arg2) :\n",
    "            print (\"I am the wrapper around the decorated function.\\n\"\n",
    "                  \"I can access all the variables\\n\"\n",
    "                  \"\\t- from the decorator: {0} {1}\\n\"\n",
    "                  \"\\t- from the function call: {2} {3}\\n\"\n",
    "                  \"Then I can pass them to the decorated function\"\n",
    "                  .format(decorator_arg1, decorator_arg2,\n",
    "                          function_arg1, function_arg2))\n",
    "            return func(function_arg1, function_arg2)\n",
    "\n",
    "        return wrapped\n",
    "\n",
    "    return my_decorator\n",
    "\n",
    "\n",
    "@decorator_maker_with_arguments(\"Leonard\", \"Sheldon\")\n",
    "def decorated_function_with_arguments(function_arg1, function_arg2):\n",
    "    print (\"I am the decorated function and only knows about my arguments: {0}\"\n",
    "           \" {1}\".format(function_arg1, function_arg2))\n",
    "\n",
    "decorated_function_with_arguments(\"Rajesh\", \"Howard\")"
   ]
  },
  {
   "cell_type": "markdown",
   "metadata": {},
   "source": [
    "好了,上面就是带参数的装饰器.参数可以设置成变量:"
   ]
  },
  {
   "cell_type": "code",
   "execution_count": 44,
   "metadata": {},
   "outputs": [
    {
     "name": "stdout",
     "output_type": "stream",
     "text": [
      "I make decorators! And I accept arguments: Leonard Penny\n",
      "I am the decorator. Somehow you passed me arguments: Leonard Penny\n",
      "I am the wrapper around the decorated function.\n",
      "I can access all the variables\n",
      "\t- from the decorator: Leonard Penny\n",
      "\t- from the function call: Leslie Howard\n",
      "Then I can pass them to the decorated function\n",
      "I am the decorated function and only knows about my arguments: Leslie Howard\n"
     ]
    }
   ],
   "source": [
    "c1 = \"Penny\"\n",
    "c2 = \"Leslie\"\n",
    "\n",
    "@decorator_maker_with_arguments(\"Leonard\", c1)\n",
    "def decorated_function_with_arguments(function_arg1, function_arg2):\n",
    "    print (\"I am the decorated function and only knows about my arguments:\"\n",
    "           \" {0} {1}\".format(function_arg1, function_arg2))\n",
    "\n",
    "decorated_function_with_arguments(c2, \"Howard\")"
   ]
  },
  {
   "cell_type": "markdown",
   "metadata": {},
   "source": [
    "你可以用这个小技巧把任何函数的参数传递给装饰器.如果你愿意还可以用*args,**kwargs.但是一定要记住了装饰器只能被调用一次.当Python载入脚本后,你不可以动态的设置参数了.当你运行import x,函数已经被装饰,所以你什么都不能动了.\n",
    "\n",
    "### 来练习一下:装饰装饰器\n",
    "\n",
    "好吧,作为奖励,我就给你讲讲如何怎么让所有的装饰器接收任何参数.为了接收参数,我们用另外的函数来建我们的装饰器.\n",
    "\n",
    "我们包装装饰器.\n",
    "\n",
    "还有什么我们可以看到吗?\n",
    "\n",
    "对了,装饰器!\n",
    "\n",
    "让我们来为装饰器一个装饰器:"
   ]
  },
  {
   "cell_type": "code",
   "execution_count": 49,
   "metadata": {
    "collapsed": true
   },
   "outputs": [],
   "source": [
    "def decorator_with_args(decorator_to_enhance):\n",
    "    \"\"\"\n",
    "    这个函数将被用来作为装饰器.\n",
    "    它必须去装饰要成为装饰器的函数.\n",
    "    休息一下.\n",
    "    它将允许所有的装饰器可以接收任意数量的参数,所以以后你不必为每次都要做这个头疼了.\n",
    "    saving you the headache to remember how to do that every time.\n",
    "    \"\"\"\n",
    "\n",
    "    # 我们用传递参数的同样技巧.\n",
    "    def decorator_maker(*args, **kwargs):\n",
    "\n",
    "        # 我们动态的建立一个只接收一个函数的装饰器,\n",
    "        # 但是他能接收来自maker的参数\n",
    "        def decorator_wrapper(func):\n",
    "\n",
    "            # 最后我们返回原始的装饰器,毕竟它只是'平常'的函数\n",
    "            # 唯一的陷阱:装饰器必须有这个特殊的,否则将不会奏效.\n",
    "            return decorator_to_enhance(func, *args, **kwargs)\n",
    "\n",
    "        return decorator_wrapper"
   ]
  },
  {
   "cell_type": "markdown",
   "metadata": {},
   "source": [
    "下面是如何用它们:"
   ]
  },
  {
   "cell_type": "code",
   "execution_count": 55,
   "metadata": {},
   "outputs": [
    {
     "data": {
      "text/plain": [
       "'\\n@decorated_decorator(42, 404, 1024)\\ndef decorated_function(function_arg1, function_arg2):\\n    print (\"Hello\", function_arg1, function_arg2)\\n\\ndecorated_function(\"Universe and\", \"everything\")\\n'"
      ]
     },
     "execution_count": 55,
     "metadata": {},
     "output_type": "execute_result"
    }
   ],
   "source": [
    "# 下面的函数是你建来当装饰器用的,然后把装饰器加到上面:-)\n",
    "# 不要忘了这个 \"decorator(func, *args, **kwargs)\"\n",
    "@decorator_with_args\n",
    "def decorated_decorator(func, *args, **kwargs):\n",
    "    def wrapper(function_arg1, function_arg2):\n",
    "        print (\"Decorated with\", args, kwarg)\n",
    "        return func(function_arg1, function_arg2)\n",
    "    return wrapper\n",
    "\n",
    "# 现在你用你自己的装饰装饰器来装饰你的函数(汗~~~)\n",
    "\"\"\"\n",
    "@decorated_decorator(42, 404, 1024)\n",
    "def decorated_function(function_arg1, function_arg2):\n",
    "    print (\"Hello\", function_arg1, function_arg2)\n",
    "\n",
    "decorated_function(\"Universe and\", \"everything\")\n",
    "\"\"\""
   ]
  },
  {
   "cell_type": "code",
   "execution_count": null,
   "metadata": {
    "collapsed": true
   },
   "outputs": [],
   "source": [
    "估计你看到这和你刚看完爱因斯坦相对论差不多,但是现在如果明白怎么用就好多了吧.\n",
    "what a puzzle!\n",
    "\n",
    "\n",
    "最好的练习:装饰器\n",
    "\n",
    "    装饰器是Python2.4里引进的,所以确保你的Python解析器的版本>=2.4\n",
    "    装饰器使函数调用变慢了.一定要记住.\n",
    "    装饰器不能被取消(有些人把装饰器做成可以移除的但是没有人会用)所以一旦一个函数被装饰了.所有的代码都会被装饰.\n",
    "    用装饰器装饰函数将会很难debug(在>=2.5版本将会有所改善;看下面)\n",
    "\n",
    "functools模块在2.5被引进.它包含了一个functools.wraps()函数,可以复制装饰器函数的名字,模块和文档给它的包装器.\n",
    "\n",
    "(事实上:functools.wraps()是一个装饰器!"
   ]
  },
  {
   "cell_type": "code",
   "execution_count": 56,
   "metadata": {},
   "outputs": [
    {
     "name": "stdout",
     "output_type": "stream",
     "text": [
      "foo\n",
      "wrapper\n"
     ]
    }
   ],
   "source": [
    "#为了debug,堆栈跟踪将会返回函数的 __name__\n",
    "def foo():\n",
    "    print (\"foo\")\n",
    "\n",
    "print(foo.__name__)\n",
    "#输出: foo\n",
    "\n",
    "# 如果加上装饰器,将变得有点复杂\n",
    "def bar(func):\n",
    "    def wrapper():\n",
    "        print (\"bar\")\n",
    "        return func()\n",
    "    return wrapper\n",
    "\n",
    "@bar\n",
    "def foo():\n",
    "    print (\"foo\")\n",
    "\n",
    "print (foo.__name__)\n",
    "#输出: wrapper"
   ]
  },
  {
   "cell_type": "code",
   "execution_count": 57,
   "metadata": {},
   "outputs": [
    {
     "name": "stdout",
     "output_type": "stream",
     "text": [
      "foo\n"
     ]
    }
   ],
   "source": [
    "# \"functools\" 将有所帮助\n",
    "\n",
    "import functools\n",
    "\n",
    "def bar(func):\n",
    "    # 我们所说的\"wrapper\",正在包装 \"func\",\n",
    "    # 好戏开始了\n",
    "    @functools.wraps(func)\n",
    "    def wrapper():\n",
    "        print (\"bar\")\n",
    "        return func()\n",
    "    return wrapper\n",
    "\n",
    "@bar\n",
    "def foo():\n",
    "    print (\"foo\")\n",
    "\n",
    "print (foo.__name__)"
   ]
  },
  {
   "cell_type": "markdown",
   "metadata": {},
   "source": [
    "## 怎么使用装饰器?\n",
    "\n",
    "现在遇到了大问题:我们用装饰器干什么?\n",
    "\n",
    "看起来很黄很暴力,但是如果有实际用途就更好了.好了这里有1000个用途.传统的用法就是用它来为外部的库的函数(你不能修改的)做扩展,或者debug(你不想修改它,因为它是暂时的).\n",
    "\n",
    "你也可以用DRY的方法去扩展一些函数,像:"
   ]
  },
  {
   "cell_type": "code",
   "execution_count": 59,
   "metadata": {},
   "outputs": [],
   "source": [
    "def benchmark(func):\n",
    "    \"\"\"\n",
    "    A decorator that prints the time a function takes\n",
    "    to execute.\n",
    "    \"\"\"\n",
    "    import time\n",
    "    def wrapper(*args, **kwargs):\n",
    "        t = time.clock()\n",
    "        res = func(*args, **kwargs)\n",
    "        print (func.__name__, time.clock()-t)\n",
    "        return res\n",
    "    return wrapper\n",
    "\n",
    "\n",
    "def logging(func):\n",
    "    \"\"\"\n",
    "    A decorator that logs the activity of the script.\n",
    "    (it actually just prints it, but it could be logging!)\n",
    "    \"\"\"\n",
    "    def wrapper(*args, **kwargs):\n",
    "        res = func(*args, **kwargs)\n",
    "        print (func.__name__, args, kwargs)\n",
    "        return res\n",
    "    return wrapper\n",
    "\n",
    "\n",
    "def counter(func):\n",
    "    \"\"\"\n",
    "    A decorator that counts and prints the number of times a function has been executed\n",
    "    \"\"\"\n",
    "    def wrapper(*args, **kwargs):\n",
    "        wrapper.count = wrapper.count + 1\n",
    "        res = func(*args, **kwargs)\n",
    "        print (\"{0} has been used: {1}x\".format(func.__name__, wrapper.count))\n",
    "        return res\n",
    "    wrapper.count = 0\n",
    "    return wrapper"
   ]
  },
  {
   "cell_type": "code",
   "execution_count": 62,
   "metadata": {},
   "outputs": [
    {
     "name": "stdout",
     "output_type": "stream",
     "text": [
      "reverse_string ('Able was I ere I saw Elba',) {}\n",
      "wrapper 0.0014529999999997045\n",
      "wrapper has been used: 1x\n",
      "<reversed object at 0x7ff858210278>\n"
     ]
    }
   ],
   "source": [
    "@counter\n",
    "@benchmark\n",
    "@logging\n",
    "def reverse_string(string):\n",
    "    return str(reversed(string))\n",
    "\n",
    "print (reverse_string(\"Able was I ere I saw Elba\"))\n",
    "#print (reverse_string(\"A man, a plan, a canoe, pasta, heros, rajahs, a coloratura, maps, snipe, percale, macaroni, a gag, a banana bag, a tan, a tag, a banana bag again (or a camel), a crepe, pins, Spam, a rut, a Rolo, cash, a jar, sore hats, a peon, a canal: Panama!\"))"
   ]
  },
  {
   "cell_type": "code",
   "execution_count": null,
   "metadata": {
    "collapsed": true
   },
   "outputs": [],
   "source": []
  }
 ],
 "metadata": {
  "kernelspec": {
   "display_name": "Python 2",
   "language": "python",
   "name": "python2"
  },
  "language_info": {
   "codemirror_mode": {
    "name": "ipython",
    "version": 2
   },
   "file_extension": ".py",
   "mimetype": "text/x-python",
   "name": "python",
   "nbconvert_exporter": "python",
   "pygments_lexer": "ipython2",
   "version": "2.7.13"
  }
 },
 "nbformat": 4,
 "nbformat_minor": 2
}
